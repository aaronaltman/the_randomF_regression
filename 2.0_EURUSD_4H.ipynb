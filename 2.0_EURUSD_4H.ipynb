{
  "nbformat": 4,
  "nbformat_minor": 5,
  "metadata": {
    "selected_hardware_size": "small",
    "noteable": {
      "last_transaction_id": "90d9a18a-655b-4b1e-930c-aac91fec2f3a"
    },
    "kernel_info": {
      "name": "python3"
    },
    "kernelspec": {
      "display_name": "Python 3.9",
      "language": "python",
      "name": "python3"
    }
  },
  "cells": [
    {
      "id": "9de98b81",
      "cell_type": "code",
      "metadata": {
        "noteable": {
          "output_collection_id": "5633b5b6-a258-4239-8f39-ae43ba25d3f6"
        },
        "ExecuteTime": {
          "end_time": "2023-08-07T09:30:23.939004+00:00",
          "start_time": "2023-08-07T09:30:14.068737+00:00"
        },
        "scrolled": false,
        "jupyter": {
          "outputs_hidden": true
        }
      },
      "execution_count": null,
      "source": "pip install v20 scikit-learn ta oandapyV20",
      "outputs": []
    },
    {
      "id": "5721ceb9-b89a-45ea-b19b-7b8e8093b16d",
      "cell_type": "code",
      "metadata": {
        "jupyter": {
          "outputs_hidden": false,
          "source_hidden": false
        },
        "noteable": {
          "cell_type": "code",
          "output_collection_id": "59efcc3a-c77a-4c9a-a202-9485ad06a333"
        },
        "ExecuteTime": {
          "end_time": "2023-08-07T09:30:24.307866+00:00",
          "start_time": "2023-08-07T09:30:23.948109+00:00"
        },
        "scrolled": false
      },
      "execution_count": null,
      "source": "import requests\nimport json\nimport os\n\naccess_token = os.environ[\"OANDA_LIVE_API_TOKEN\"]\nOANDA_BEARER_TOKEN = os.environ[\"OANDA_BEARER_TOKEN\"]\n\n# Define the API endpoint for fetching historical price data\ninstrument = \"USD_MXN\" # Replace with the instrument you're interested in\nurl = f\"https://api-fxtrade.oanda.com/v3/instruments/{instrument}/candles\"\n\n# Define the headers for the API request\nheaders = {\n    'Content-Type': 'application/json',\n    'Authorization': f'Bearer {OANDA_BEARER_TOKEN}'\n}\n\n# Define the parameters for the API request (e.g., the granularity of the candles and the price type\nparams = {\n    'count': 2000,  # The number of candles to fetch\n    'granularity': 'W',  #  4H candles\n    'price': 'M'  # M for midpoint prices\n}\n\n# Make the API request\nresponse = requests.get(url, headers=headers, params=params)\n\n# Parse the JSON response\ndata = json.loads(response.text)\n\n# Print the data\nprint(json.dumps(data, indent=4))\n\n",
      "outputs": []
    },
    {
      "id": "01a75ee5-0729-4cc9-aab6-13273855d6ac",
      "cell_type": "code",
      "metadata": {
        "jupyter": {
          "outputs_hidden": false,
          "source_hidden": false
        },
        "noteable": {
          "cell_type": "code",
          "output_collection_id": "1bc64c89-8896-4b3d-adfa-14f2466a7c57"
        },
        "ExecuteTime": {
          "end_time": "2023-08-07T09:30:25.091842+00:00",
          "start_time": "2023-08-07T09:30:24.754725+00:00"
        },
        "scrolled": false
      },
      "execution_count": null,
      "source": "#CREATE THE DATA FRAME:\nimport pandas as pd\nimport ta\n\n# Extract the candles data\ncandles = data['candles']\n\n# Convert the candles data into a DataFrame\ndf = pd.DataFrame([{'o': float(candle['mid']['o']), 'h': float(candle['mid']['h']), 'l': float(candle['mid']['l']), 'c': float(candle['mid']['c'])} for candle in candles])\n\n# Add a time column to the DataFrame\ndf['time'] = [candle['time'] for candle in candles]\n\n# Convert the time column to datetime format\ndf['time'] = pd.to_datetime(df['time'])\n\n# Set the time column as the index of the DataFrame\ndf.set_index('time', inplace=True)\n\n# Calculate the Simple Moving Average for the closing prices\ndf['sma_10'] = ta.trend.sma_indicator(df['c'], window=10)  # 10-period SMA\ndf['sma_20'] = ta.trend.sma_indicator(df['c'], window=20)  # 20-period SMA\n\n# Calculate the Relative Strength Index (RSI)\ndf['rsi'] = ta.momentum.rsi(df['c'], window=14)\n\n# Calculate the Moving Average Convergence Divergence (MACD)\nmacd = ta.trend.MACD(df['c'], window_slow=26, window_fast=12)\ndf['macd'] = macd.macd()\ndf['macd_signal'] = macd.macd_signal()\ndf['macd_hist'] = macd.macd_diff()\n\n# Drop the rows with NaN values\ndf = df.dropna()\n\n# Print the DataFrame\nprint(df)",
      "outputs": []
    },
    {
      "id": "cbb4abf0-6b89-47a2-86b5-cb778a40aeea",
      "cell_type": "code",
      "metadata": {
        "jupyter": {
          "outputs_hidden": false,
          "source_hidden": false
        },
        "noteable": {
          "cell_type": "code",
          "output_collection_id": "5e749998-6239-4e33-bb5a-d21e132fc212"
        },
        "ExecuteTime": {
          "end_time": "2023-08-07T09:30:46.809310+00:00",
          "start_time": "2023-08-07T09:30:30.114575+00:00"
        }
      },
      "execution_count": null,
      "source": "from sklearn.model_selection import train_test_split\nfrom sklearn.ensemble import RandomForestRegressor\nfrom sklearn.metrics import mean_squared_error\nimport numpy as np\n\n# Define a function to create feature set and target variable\ndef create_dataset(df, history_size=50, target_size=1):\n    data = []\n    labels = []\n    start_index = history_size\n    end_index = len(df) - target_size\n\n    for i in range(start_index, end_index):\n        indices = range(i-history_size, i)\n        # Include additional features in the data\n        features = df[['c', 'sma_10', 'sma_20', 'rsi', 'macd', 'macd_signal', 'macd_hist']].iloc[indices].values\n        data.append(features.flatten())  # Flatten the data\n        labels.append(df['c'].iloc[i+target_size])\n    return np.array(data), np.array(labels)\n\n# Create feature set and target variable\nX, y = create_dataset(df)\n\n# Split the data into training set and test set\nX_train, X_test, y_train, y_test = train_test_split(X, y, test_size=0.2, random_state=42)\n\n# Initialize the Random Forest Regressor\nmodel = RandomForestRegressor(n_estimators=100, random_state=42)\n\n# Train the model\nmodel.fit(X_train, y_train)\n\n# Make predictions on the test set\ny_pred = model.predict(X_test)\n\n# Calculate the mean squared error of the predictions\nmse = mean_squared_error(y_test, y_pred)\nmse",
      "outputs": []
    },
    {
      "id": "988f4e3f-7168-4047-9c6d-b9c3dd9aa603",
      "cell_type": "code",
      "metadata": {
        "jupyter": {
          "outputs_hidden": false,
          "source_hidden": false
        },
        "noteable": {
          "cell_type": "code",
          "output_collection_id": "e694fc42-9668-4e2b-b155-5096dcf07ee6"
        },
        "ExecuteTime": {
          "end_time": "2023-08-07T09:30:47.085685+00:00",
          "start_time": "2023-08-07T09:30:46.820679+00:00"
        }
      },
      "execution_count": null,
      "source": "# Define a function to predict the next 4-hour bar\ndef predict_next(model, df, history_size=50):\n    # Get the most recent data\n    recent_data = df[['c', 'sma_10', 'sma_20', 'rsi', 'macd', 'macd_signal', 'macd_hist']].iloc[-history_size:].values\n    # Reshape the data\n    recent_data = recent_data.flatten().reshape(1, -1)\n    # Make a prediction\n    prediction = model.predict(recent_data)\n    return prediction\n\n# Predict the closing price for the next 4-hour bar\nnext_price = predict_next(model, df)\nnext_price",
      "outputs": []
    },
    {
      "id": "0d9a2974-e339-4a6e-9378-a71c80139d13",
      "cell_type": "code",
      "metadata": {
        "jupyter": {
          "outputs_hidden": false,
          "source_hidden": false
        },
        "noteable": {
          "cell_type": "code",
          "output_collection_id": "75b8c09a-4cf0-47bb-9b91-40b150c9154f"
        },
        "ExecuteTime": {
          "end_time": "2023-08-07T09:30:51.767441+00:00",
          "start_time": "2023-08-07T09:30:51.607512+00:00"
        }
      },
      "execution_count": null,
      "source": "# Import necessary libraries\nfrom sklearn.metrics import r2_score\nfrom datetime import datetime, timedelta\n\n# Calculate R2 score\nr2 = r2_score(y_test, y_pred)\n\n# Get the date and time for the next 4-hour bar\nnext_time = df.index[-1] + timedelta(hours=4)\n\n# Print the information\nprint(f'Prediction for the next 4-hour bar (at {next_time}): {next_price[0]}')\nprint(f'Mean Squared Error (MSE): {mse}')\nprint(f'R-squared (R2) score: {r2}')",
      "outputs": []
    },
    {
      "id": "b75b5639-dc92-4753-9834-41829b6ea5d9",
      "cell_type": "code",
      "metadata": {
        "jupyter": {
          "outputs_hidden": false,
          "source_hidden": false
        },
        "noteable": {
          "cell_type": "code",
          "output_collection_id": "9cfa69c4-d1f4-44a2-9505-217c79f46fd9"
        },
        "ExecuteTime": {
          "end_time": "2023-08-07T09:30:57.126165+00:00",
          "start_time": "2023-08-07T09:30:56.520210+00:00"
        }
      },
      "execution_count": null,
      "source": "STOP\n# Import necessary libraries\nfrom sklearn.metrics import r2_score\nfrom datetime import datetime, timedelta\n\n# Calculate R2 score\nr2 = r2_score(y_test, y_pred)\n\n# Get the date and time for the next 4-hour bar\nnext_time = df.index[-1] + timedelta(hours=4)\n\n# Print the information\nprint(f'Prediction for the next 4-hour bar (at {next_time}): {next_price[0]}')\nprint(f'Mean Squared Error (MSE): {mse}')\nprint(f'R-squared (R2) score: {r2}')",
      "outputs": []
    },
    {
      "id": "08d2356d-75b8-43af-be98-6c358f457304",
      "cell_type": "code",
      "metadata": {
        "jupyter": {
          "outputs_hidden": false,
          "source_hidden": false
        },
        "noteable": {
          "cell_type": "code",
          "output_collection_id": "79c11893-e87a-48d4-bb12-dd13cc9dc17e"
        },
        "ExecuteTime": {
          "end_time": "2023-07-11T03:37:53.159279+00:00",
          "start_time": "2023-07-11T03:37:53.003168+00:00"
        }
      },
      "execution_count": null,
      "source": "import os \nOANDA_TOKEN_DEMO = os.environ[\"OANDA_TOKEN_DEMO\"]\nACCOUNT_ID_DEMO = os.environ[\"ACCOUNT_ID_DEMO\"]",
      "outputs": []
    },
    {
      "id": "ca8f9484-2cfa-4079-add0-111efa48e851",
      "cell_type": "code",
      "metadata": {
        "jupyter": {
          "outputs_hidden": false,
          "source_hidden": false
        },
        "noteable": {
          "cell_type": "code",
          "output_collection_id": "aff3d17f-0653-48a0-be6b-b0a7bf158e2d"
        },
        "ExecuteTime": {
          "end_time": "2023-07-11T03:37:54.096031+00:00",
          "start_time": "2023-07-11T03:37:53.924259+00:00"
        }
      },
      "execution_count": null,
      "source": "import os\nimport oandapyV20\nfrom oandapyV20 import API\nfrom oandapyV20.exceptions import V20Error, StreamTerminated\nfrom oandapyV20.endpoints.pricing import PricingStream\nfrom oandapyV20.endpoints.orders import OrderCreate\nfrom pytz import timezone\n\n# Import necessary libraries\nfrom sklearn.metrics import r2_score\nfrom datetime import datetime, timedelta\n\n# Set up OANDA API credentials and account details\napi_token = os.environ[\"OANDA_TOKEN_DEMO\"]\naccount_id = os.environ[\"ACCOUNT_ID_DEMO\"]\n\n# Create an instance of the API\napi = API(access_token=api_token)\n\n# Function to retrieve the current price\ndef get_current_price():\n    params = {\n        \"instruments\": \"EUR_USD\",  # Replace with the desired instrument\n    }\n    r = PricingStream(accountID=account_id, params=params)\n    rv = api.request(r)\n    return rv['prices'][0]['closeoutBid']  # Assuming you want the bid price\n\n# Function to place an order\ndef place_order(instrument, units, order_type):\n    data = {\n        \"order\": {\n            \"price\": get_current_price(),\n            \"instrument\": instrument,\n            \"units\": units,\n            \"type\": order_type,\n            \"timeInForce\": \"FOK\"  # Replace with your desired time in force\n        }\n    }\n    r = OrderCreate(accountID=account_id, data=data)\n    rv = api.request(r)\n    return rv\n\n# Calculate R2 score\nr2 = r2_score(y_test, y_pred)\n\n# Get the date and time for the next 4-hour bar\nnext_time = df.index[-1].to_pydatetime() + timedelta(hours=4)\nnext_time = next_time.replace(tzinfo=timezone('UTC'))  # Set the timezone\n\n# Print the information\nprint(f'Prediction for the next 4-hour bar (at {next_time}): {next_price[0]}')\nprint(f'Mean Squared Error (MSE): {mse}')\nprint(f'R-squared (R2) score: {r2}')\n\n# Check the price every 4 hours and place an order\nif datetime.now(timezone('UTC')) >= next_time:\n    current_price = get_current_price()\n    print(f'Current price: {current_price}')\n    # Place your order here using place_order() function\n\n\n",
      "outputs": []
    }
  ]
}